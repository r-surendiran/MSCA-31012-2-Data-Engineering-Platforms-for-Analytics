{
 "cells": [
  {
   "cell_type": "code",
   "execution_count": 1,
   "metadata": {},
   "outputs": [],
   "source": [
    "import warnings\n",
    "warnings.filterwarnings(\"ignore\")\n",
    "\n",
    "# Install packages\n",
    "#!pip install pymysql                   \n",
    "#!pip install plotly\n",
    "#!pip install cufflinks\n",
    "\n",
    "#import statements\n",
    "import pymysql\n",
    "import pandas as pd\n",
    "import csv\n",
    "\n",
    "# Open database connection\n",
    "db = pymysql.connect(\"localhost\",\"root\",\"dante511\")\n",
    "cursor = db.cursor()"
   ]
  },
  {
   "cell_type": "code",
   "execution_count": 2,
   "metadata": {},
   "outputs": [
    {
     "name": "stdout",
     "output_type": "stream",
     "text": [
      "(('COVID',), ('final_project_covid_dw',), ('final_project_covid_norm',), ('information_schema',), ('mysql',), ('performance_schema',), ('sys',))\n"
     ]
    }
   ],
   "source": [
    "# Show the list of databases.\n",
    "\n",
    "sql = \"SHOW DATABASES\"\n",
    "cursor.execute(sql)\n",
    "databases = cursor.fetchall()\n",
    "print(databases)\n",
    "   "
   ]
  },
  {
   "cell_type": "code",
   "execution_count": 3,
   "metadata": {},
   "outputs": [
    {
     "name": "stdout",
     "output_type": "stream",
     "text": [
      "()\n"
     ]
    }
   ],
   "source": [
    "# Select covid dimensional model database.\n",
    "\n",
    "sql = \"USE final_project_covid_dw\"\n",
    "cursor.execute(sql)\n",
    "result = cursor.fetchall()\n",
    "print(result)"
   ]
  },
  {
   "cell_type": "code",
   "execution_count": 4,
   "metadata": {},
   "outputs": [
    {
     "name": "stdout",
     "output_type": "stream",
     "text": [
      "(('dim_age_group',), ('dim_date',), ('dim_loc_nursing',), ('dim_location',), ('dim_race',), ('dim_survey',), ('facts_covid_measure',), ('facts_social_behavior',), ('numbers',), ('numbers_small',))\n"
     ]
    }
   ],
   "source": [
    "# Show all tables in the database.\n",
    "sql = \"SHOW TABLES\"\n",
    "cursor.execute(sql)\n",
    "tables = cursor.fetchall()\n",
    "print(tables)\n"
   ]
  },
  {
   "cell_type": "code",
   "execution_count": 20,
   "metadata": {},
   "outputs": [],
   "source": [
    "# Get average perc home for 10 days before Febr 29, 10 days unti March 10, and 10 days until March 20 and 10 days until March 30\n",
    "\n",
    "av_1 = {}\n",
    "av_2 = {}\n",
    "av_3 = {}\n",
    "av_4 = {}\n",
    "\n",
    "dates_1 = []\n",
    "dates_2 = []\n",
    "dates_3 = []\n",
    "dates_4 = []\n",
    "\n",
    "\n",
    "date_febr = '2020-2-{0}'\n",
    "date_march = '2020-3-{0}'\n",
    "\n",
    "# Get average perc_time_home for last 10 days in Febr\n",
    "\n",
    "for i in range(10):\n",
    "    dates_1.append(date_febr.format(20+i))\n",
    "    dates_2.append(date_march.format(1+i))\n",
    "    dates_3.append(date_march.format(10+i))\n",
    "    dates_4.append(date_march.format(20+i))\n",
    "\n",
    "cursor.execute('''SELECT l.zip, AVG(b.median_percentage_time_home) FROM facts_social_behavior b INNER JOIN dim_date d ON b.behv_date_key = d.date_id INNER JOIN dim_location l ON l.location_key = b.location_key WHERE d.date_val IN %(dates)s GROUP BY l.zip''', {'dates': tuple(dates_1)})\n",
    "result = cursor.fetchall()\n",
    "\n",
    "for i in range(170):\n",
    "    av_1[result[i][0]] = result[i][1]\n",
    "    \n",
    "# Get average perc_time_home for first 10 days in March\n",
    "\n",
    "cursor.execute('''SELECT l.zip, AVG(b.median_percentage_time_home) FROM facts_social_behavior b INNER JOIN dim_date d ON b.behv_date_key = d.date_id INNER JOIN dim_location l ON l.location_key = b.location_key WHERE d.date_val IN %(dates)s GROUP BY l.zip''', {'dates': tuple(dates_2)})\n",
    "result = cursor.fetchall()\n",
    "\n",
    "for i in range(170):\n",
    "    av_2[result[i][0]] = result[i][1]\n",
    "    \n",
    "# Get average perc_time_home for next 10 days in March\n",
    "\n",
    "cursor.execute('''SELECT l.zip, AVG(b.median_percentage_time_home) FROM facts_social_behavior b INNER JOIN dim_date d ON b.behv_date_key = d.date_id INNER JOIN dim_location l ON l.location_key = b.location_key WHERE d.date_val IN %(dates)s GROUP BY l.zip''', {'dates': tuple(dates_3)})\n",
    "result = cursor.fetchall()\n",
    "\n",
    "for i in range(170):\n",
    "    av_3[result[i][0]] = result[i][1]\n",
    "    \n",
    "# Get average perc_time_home for last 10 days in March\n",
    "\n",
    "cursor.execute('''SELECT l.zip, AVG(b.median_percentage_time_home) FROM facts_social_behavior b INNER JOIN dim_date d ON b.behv_date_key = d.date_id INNER JOIN dim_location l ON l.location_key = b.location_key WHERE d.date_val IN %(dates)s GROUP BY l.zip''', {'dates': tuple(dates_4)})\n",
    "result = cursor.fetchall()\n",
    "\n",
    "for i in range(170):\n",
    "    av_4[result[i][0]] = result[i][1]"
   ]
  },
  {
   "cell_type": "code",
   "execution_count": 28,
   "metadata": {},
   "outputs": [],
   "source": [
    "w = csv.writer(open(\"Average_perc_time_home_per_10_days.csv\", \"w\"))\n",
    "w.writerow(['Zipcode', 'Perc_time_last_10_Febr', 'Perc_time_first_10_March', 'Perc_time_middle_10_March', 'Perc_time_last_10_March']) \n",
    "\n",
    "zips = list(av_1.keys())\n",
    "for i in range(170):\n",
    "    w.writerow([zips[i], av_1[zips[i]], av_2[zips[i]], av_3[zips[i]], av_4[zips[i]]]) "
   ]
  },
  {
   "cell_type": "code",
   "execution_count": 5,
   "metadata": {},
   "outputs": [],
   "source": [
    "# Get average perc home for 10 days before Febr 29, 10 days unti March 10, and 10 days until March 20 and 10 days until March 30\n",
    "\n",
    "av_1 = {}\n",
    "av_2 = {}\n",
    "av_3 = {}\n",
    "av_4 = {}\n",
    "\n",
    "dates_1 = []\n",
    "dates_2 = []\n",
    "dates_3 = []\n",
    "dates_4 = []\n",
    "\n",
    "\n",
    "date_febr = '2020-2-{0}'\n",
    "date_march = '2020-3-{0}'\n",
    "\n",
    "# Get average perc_time_home for last 10 days in Febr\n",
    "\n",
    "for i in range(10):\n",
    "    dates_1.append(date_febr.format(20+i))\n",
    "    dates_2.append(date_march.format(1+i))\n",
    "    dates_3.append(date_march.format(10+i))\n",
    "    dates_4.append(date_march.format(20+i))\n",
    "\n",
    "cursor.execute('''SELECT l.zip, AVG(b.full_time_work_behavior_devices), AVG(b.device_count) FROM facts_social_behavior b INNER JOIN dim_date d ON b.behv_date_key = d.date_id INNER JOIN dim_location l ON l.location_key = b.location_key WHERE d.date_val IN %(dates)s GROUP BY l.zip''', {'dates': tuple(dates_1)})\n",
    "result = cursor.fetchall()\n",
    "\n",
    "for i in range(170):\n",
    "    av_1[result[i][0]] = result[i][1]/result[i][2]\n",
    "    \n",
    "# first 10 days in March\n",
    "\n",
    "cursor.execute('''SELECT l.zip, AVG(b.full_time_work_behavior_devices), AVG(b.device_count)  FROM facts_social_behavior b INNER JOIN dim_date d ON b.behv_date_key = d.date_id INNER JOIN dim_location l ON l.location_key = b.location_key WHERE d.date_val IN %(dates)s GROUP BY l.zip''', {'dates': tuple(dates_2)})\n",
    "result = cursor.fetchall()\n",
    "\n",
    "for i in range(170):\n",
    "    av_2[result[i][0]] = result[i][1]/result[i][2]\n",
    "    \n",
    "# middle 10 days in March\n",
    "\n",
    "cursor.execute('''SELECT l.zip, AVG(b.full_time_work_behavior_devices), AVG(b.device_count) FROM facts_social_behavior b INNER JOIN dim_date d ON b.behv_date_key = d.date_id INNER JOIN dim_location l ON l.location_key = b.location_key WHERE d.date_val IN %(dates)s GROUP BY l.zip''', {'dates': tuple(dates_3)})\n",
    "result = cursor.fetchall()\n",
    "\n",
    "for i in range(170):\n",
    "    av_3[result[i][0]] = result[i][1]/result[i][2]\n",
    "    \n",
    "# last 10 days in March\n",
    "\n",
    "cursor.execute('''SELECT l.zip, AVG(b.full_time_work_behavior_devices), AVG(b.device_count) FROM facts_social_behavior b INNER JOIN dim_date d ON b.behv_date_key = d.date_id INNER JOIN dim_location l ON l.location_key = b.location_key WHERE d.date_val IN %(dates)s GROUP BY l.zip''', {'dates': tuple(dates_4)})\n",
    "result = cursor.fetchall()\n",
    "\n",
    "for i in range(170):\n",
    "    av_4[result[i][0]] = result[i][1]/result[i][2]"
   ]
  },
  {
   "cell_type": "code",
   "execution_count": 6,
   "metadata": {},
   "outputs": [],
   "source": [
    "w = csv.writer(open(\"Average_full_time_work_behavior_devices_per_10_days.csv\", \"w\"))\n",
    "w.writerow(['Zipcode', 'Full_time_work_behavior_devices_last_10_Febr', 'Full_time_work_behavior_devices_first_10_March', 'Full_time_work_behavior_devices_middle_10_March', 'Full_time_work_behavior_devices_last_10_March']) \n",
    "\n",
    "zips = list(av_1.keys())\n",
    "for i in range(170):\n",
    "    w.writerow([zips[i], av_1[zips[i]], av_2[zips[i]], av_3[zips[i]], av_4[zips[i]]]) "
   ]
  },
  {
   "cell_type": "code",
   "execution_count": 7,
   "metadata": {},
   "outputs": [],
   "source": [
    "\n",
    "av_1 = {}\n",
    "av_2 = {}\n",
    "av_3 = {}\n",
    "av_4 = {}\n",
    "\n",
    "dates_1 = []\n",
    "dates_2 = []\n",
    "dates_3 = []\n",
    "dates_4 = []\n",
    "\n",
    "\n",
    "date_febr = '2020-2-{0}'\n",
    "date_march = '2020-3-{0}'\n",
    "\n",
    "# last 10 days in Febr\n",
    "\n",
    "for i in range(10):\n",
    "    dates_1.append(date_febr.format(20+i))\n",
    "    dates_2.append(date_march.format(1+i))\n",
    "    dates_3.append(date_march.format(10+i))\n",
    "    dates_4.append(date_march.format(20+i))\n",
    "\n",
    "cursor.execute('''SELECT l.zip, AVG(b.delivery_behavior_devices), AVG(b.device_count) FROM facts_social_behavior b INNER JOIN dim_date d ON b.behv_date_key = d.date_id INNER JOIN dim_location l ON l.location_key = b.location_key WHERE d.date_val IN %(dates)s GROUP BY l.zip''', {'dates': tuple(dates_1)})\n",
    "result = cursor.fetchall()\n",
    "\n",
    "for i in range(170):\n",
    "    av_1[result[i][0]] = result[i][1]/result[i][2]\n",
    "    \n",
    "# first 10 days in March\n",
    "\n",
    "cursor.execute('''SELECT l.zip, AVG(b.delivery_behavior_devices), AVG(b.device_count) FROM facts_social_behavior b INNER JOIN dim_date d ON b.behv_date_key = d.date_id INNER JOIN dim_location l ON l.location_key = b.location_key WHERE d.date_val IN %(dates)s GROUP BY l.zip''', {'dates': tuple(dates_2)})\n",
    "result = cursor.fetchall()\n",
    "\n",
    "for i in range(170):\n",
    "    av_2[result[i][0]] = result[i][1]/result[i][2]\n",
    "    \n",
    "# middle 10 days in March\n",
    "\n",
    "cursor.execute('''SELECT l.zip, AVG(b.delivery_behavior_devices), AVG(b.device_count) FROM facts_social_behavior b INNER JOIN dim_date d ON b.behv_date_key = d.date_id INNER JOIN dim_location l ON l.location_key = b.location_key WHERE d.date_val IN %(dates)s GROUP BY l.zip''', {'dates': tuple(dates_3)})\n",
    "result = cursor.fetchall()\n",
    "\n",
    "for i in range(170):\n",
    "    av_3[result[i][0]] = result[i][1]/result[i][2]\n",
    "    \n",
    "# last 10 days in March\n",
    "\n",
    "cursor.execute('''SELECT l.zip, AVG(b.delivery_behavior_devices), AVG(b.device_count) FROM facts_social_behavior b INNER JOIN dim_date d ON b.behv_date_key = d.date_id INNER JOIN dim_location l ON l.location_key = b.location_key WHERE d.date_val IN %(dates)s GROUP BY l.zip''', {'dates': tuple(dates_4)})\n",
    "result = cursor.fetchall()\n",
    "\n",
    "for i in range(170):\n",
    "    av_4[result[i][0]] = result[i][1]/result[i][2]"
   ]
  },
  {
   "cell_type": "code",
   "execution_count": 8,
   "metadata": {},
   "outputs": [],
   "source": [
    "w = csv.writer(open(\"Average_delivery_behavior_devices_per_10_days.csv\", \"w\"))\n",
    "w.writerow(['Zipcode', 'Delivery_devices_last_10_Febr', 'Delivery_devices_first_10_March', 'Delivery_devices_middle_10_March', 'Delivery_devices_last_10_March']) \n",
    "\n",
    "zips = list(av_1.keys())\n",
    "for i in range(170):\n",
    "    w.writerow([zips[i], av_1[zips[i]], av_2[zips[i]], av_3[zips[i]], av_4[zips[i]]]) "
   ]
  },
  {
   "cell_type": "code",
   "execution_count": null,
   "metadata": {},
   "outputs": [],
   "source": []
  }
 ],
 "metadata": {
  "anaconda-cloud": {},
  "kernelspec": {
   "display_name": "Python 3",
   "language": "python",
   "name": "python3"
  },
  "language_info": {
   "codemirror_mode": {
    "name": "ipython",
    "version": 3
   },
   "file_extension": ".py",
   "mimetype": "text/x-python",
   "name": "python",
   "nbconvert_exporter": "python",
   "pygments_lexer": "ipython3",
   "version": "3.7.3"
  }
 },
 "nbformat": 4,
 "nbformat_minor": 1
}
